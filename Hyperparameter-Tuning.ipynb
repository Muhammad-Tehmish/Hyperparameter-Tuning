{
 "cells": [
  {
   "cell_type": "markdown",
   "id": "30abfd38",
   "metadata": {},
   "source": [
    "# Hyperparameter Tuning of ML Models"
   ]
  },
  {
   "cell_type": "markdown",
   "id": "45737608",
   "metadata": {},
   "source": [
    "# 1. Understanding Hyperparameters "
   ]
  },
  {
   "cell_type": "markdown",
   "id": "ea6c1448",
   "metadata": {},
   "source": [
    "Hyperparameters are settings or parameters that are set before the learning process begins and control the behavior of the machine learning model. Unlike model parameters, which are learned during training, hyperparameters must be predefined. Techniques like Grid Search, Random Search, and Bayesian Optimization are commonly used to find the optimal hyperparameters by systematically exploring different combinations."
   ]
  },
  {
   "cell_type": "markdown",
   "id": "7eb537a2",
   "metadata": {},
   "source": [
    "### Importing Necessary Libraries"
   ]
  },
  {
   "cell_type": "code",
   "execution_count": 4,
   "id": "0458f01c",
   "metadata": {},
   "outputs": [],
   "source": [
    "import pandas as pd\n",
    "import numpy as np\n",
    "from sklearn.ensemble import RandomForestClassifier\n",
    "from sklearn.metrics import accuracy_score, classification_report\n",
    "from sklearn.model_selection import train_test_split, GridSearchCV, RandomizedSearchCV\n",
    "import joblib"
   ]
  },
  {
   "cell_type": "markdown",
   "id": "f7d4c81b",
   "metadata": {},
   "source": [
    "# 2. Grid Search"
   ]
  },
  {
   "cell_type": "code",
   "execution_count": 5,
   "id": "d242fd31",
   "metadata": {},
   "outputs": [
    {
     "name": "stdout",
     "output_type": "stream",
     "text": [
      "Fitting 5 folds for each of 81 candidates, totalling 405 fits\n",
      "Grid Search Best parameters found: {'max_depth': None, 'min_samples_leaf': 1, 'min_samples_split': 5, 'n_estimators': 200}\n",
      "Grid Search Best cross-validation score: 0.9719578944908843\n"
     ]
    }
   ],
   "source": [
    "df = pd.read_csv('spam_dataset.csv')\n",
    "\n",
    "X = df.drop(columns=['Prediction'])\n",
    "y = df['Prediction']\n",
    "\n",
    "X_train, X_test, y_train, y_test = train_test_split(X, y, test_size=0.2, random_state=42)\n",
    "\n",
    "rf_model = RandomForestClassifier(random_state=42)\n",
    "\n",
    "param_grid = {\n",
    "    'n_estimators': [50, 100, 200],\n",
    "    'max_depth': [None, 10, 20],\n",
    "    'min_samples_split': [2, 5, 10],\n",
    "    'min_samples_leaf': [1, 2, 4]\n",
    "}\n",
    "\n",
    "grid_search = GridSearchCV(estimator=rf_model, param_grid=param_grid, cv=5, scoring='accuracy', verbose=1)\n",
    "grid_search.fit(X_train, y_train)\n",
    "\n",
    "print(\"Grid Search Best parameters found:\", grid_search.best_params_)\n",
    "print(\"Grid Search Best cross-validation score:\", grid_search.best_score_)\n",
    "\n",
    "best_rf_model_grid = grid_search.best_estimator_\n",
    "y_pred_grid = best_rf_model_grid.predict(X_test)"
   ]
  },
  {
   "cell_type": "markdown",
   "id": "4f17e03a",
   "metadata": {},
   "source": [
    "# 3. Random Search"
   ]
  },
  {
   "cell_type": "code",
   "execution_count": 6,
   "id": "7ee701a0",
   "metadata": {},
   "outputs": [
    {
     "name": "stdout",
     "output_type": "stream",
     "text": [
      "Fitting 5 folds for each of 100 candidates, totalling 500 fits\n",
      "Random Search Best parameters found: {'n_estimators': 200, 'min_samples_split': 8, 'min_samples_leaf': 1, 'max_depth': 50}\n",
      "Random Search Best cross-validation score: 0.9729249542902872\n"
     ]
    }
   ],
   "source": [
    "param_dist = {\n",
    "    'n_estimators': np.arange(50, 201, 50),\n",
    "    'max_depth': [None, 10, 20, 30, 40, 50],\n",
    "    'min_samples_split': np.arange(2, 11, 2),\n",
    "    'min_samples_leaf': np.arange(1, 5)\n",
    "}\n",
    "\n",
    "random_search = RandomizedSearchCV(estimator=rf_model, param_distributions=param_dist, n_iter=100, cv=5, scoring='accuracy', random_state=42, verbose=1)\n",
    "random_search.fit(X_train, y_train)\n",
    "\n",
    "print(\"Random Search Best parameters found:\", random_search.best_params_)\n",
    "print(\"Random Search Best cross-validation score:\", random_search.best_score_)\n",
    "\n",
    "best_rf_model_random = random_search.best_estimator_\n",
    "y_pred_random = best_rf_model_random.predict(X_test)"
   ]
  },
  {
   "cell_type": "markdown",
   "id": "b209d147",
   "metadata": {},
   "source": [
    "# 4. Model Evaluation"
   ]
  },
  {
   "cell_type": "code",
   "execution_count": 7,
   "id": "604d9d80",
   "metadata": {},
   "outputs": [
    {
     "name": "stdout",
     "output_type": "stream",
     "text": [
      "Grid Search Accuracy on test set: 0.98\n",
      "              precision    recall  f1-score   support\n",
      "\n",
      "           0       0.99      0.98      0.98       739\n",
      "           1       0.95      0.97      0.96       296\n",
      "\n",
      "    accuracy                           0.98      1035\n",
      "   macro avg       0.97      0.97      0.97      1035\n",
      "weighted avg       0.98      0.98      0.98      1035\n",
      "\n",
      "Random Search Accuracy on test set: 0.97\n",
      "              precision    recall  f1-score   support\n",
      "\n",
      "           0       0.99      0.98      0.98       739\n",
      "           1       0.95      0.96      0.96       296\n",
      "\n",
      "    accuracy                           0.97      1035\n",
      "   macro avg       0.97      0.97      0.97      1035\n",
      "weighted avg       0.98      0.97      0.97      1035\n",
      "\n"
     ]
    },
    {
     "data": {
      "text/plain": [
       "['best_rf_model_random.pkl']"
      ]
     },
     "execution_count": 7,
     "metadata": {},
     "output_type": "execute_result"
    }
   ],
   "source": [
    "accuracy_grid = accuracy_score(y_test, y_pred_grid)\n",
    "print(f\"Grid Search Accuracy on test set: {accuracy_grid:.2f}\")\n",
    "print(classification_report(y_test, y_pred_grid))\n",
    "\n",
    "accuracy_random = accuracy_score(y_test, y_pred_random)\n",
    "print(f\"Random Search Accuracy on test set: {accuracy_random:.2f}\")\n",
    "print(classification_report(y_test, y_pred_random))\n",
    "\n",
    "joblib.dump(best_rf_model_grid, 'best_rf_model_grid.pkl')\n",
    "joblib.dump(best_rf_model_random, 'best_rf_model_random.pkl')"
   ]
  }
 ],
 "metadata": {
  "kernelspec": {
   "display_name": "Python 3 (ipykernel)",
   "language": "python",
   "name": "python3"
  },
  "language_info": {
   "codemirror_mode": {
    "name": "ipython",
    "version": 3
   },
   "file_extension": ".py",
   "mimetype": "text/x-python",
   "name": "python",
   "nbconvert_exporter": "python",
   "pygments_lexer": "ipython3",
   "version": "3.7.4"
  }
 },
 "nbformat": 4,
 "nbformat_minor": 5
}
